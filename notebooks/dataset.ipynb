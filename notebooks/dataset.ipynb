{
 "cells": [
  {
   "cell_type": "markdown",
   "metadata": {},
   "source": [
    "# Dataset\n",
    "\n",
    "eLife and PLOS as introduced by Goldsack et al in [Making Science Simple: Corpora for the Lay Summarisation of Scientific Literature](https://aclanthology.org/2022.emnlp-main.724/)"
   ]
  },
  {
   "cell_type": "code",
   "execution_count": 1,
   "metadata": {},
   "outputs": [],
   "source": [
    "import pandas as pd\n",
    "from transformers import AutoTokenizer\n",
    "import numpy as np\n",
    "import matplotlib.pyplot as plt"
   ]
  },
  {
   "cell_type": "markdown",
   "metadata": {},
   "source": [
    "## Dataset selection\n",
    "Uncomment either path to analyse the dataset."
   ]
  },
  {
   "cell_type": "code",
   "execution_count": 5,
   "metadata": {},
   "outputs": [],
   "source": [
    "path = \"../data/task1_development/train/eLife_train.jsonl\" # eLife\n",
    "#path = \"../data/task1_development/train/PLOS_train.jsonl\" # PLOS"
   ]
  },
  {
   "cell_type": "markdown",
   "metadata": {},
   "source": [
    "## Dataset statisticts and visualisaition"
   ]
  },
  {
   "cell_type": "code",
   "execution_count": 6,
   "metadata": {},
   "outputs": [],
   "source": [
    "df = pd.read_json(path, lines=True, nrows=100)"
   ]
  },
  {
   "cell_type": "code",
   "execution_count": 7,
   "metadata": {
    "scrolled": true
   },
   "outputs": [
    {
     "data": {
      "text/html": [
       "<div>\n",
       "<style scoped>\n",
       "    .dataframe tbody tr th:only-of-type {\n",
       "        vertical-align: middle;\n",
       "    }\n",
       "\n",
       "    .dataframe tbody tr th {\n",
       "        vertical-align: top;\n",
       "    }\n",
       "\n",
       "    .dataframe thead th {\n",
       "        text-align: right;\n",
       "    }\n",
       "</style>\n",
       "<table border=\"1\" class=\"dataframe\">\n",
       "  <thead>\n",
       "    <tr style=\"text-align: right;\">\n",
       "      <th></th>\n",
       "      <th>lay_summary</th>\n",
       "      <th>article</th>\n",
       "      <th>headings</th>\n",
       "      <th>keywords</th>\n",
       "      <th>id</th>\n",
       "    </tr>\n",
       "  </thead>\n",
       "  <tbody>\n",
       "    <tr>\n",
       "      <th>0</th>\n",
       "      <td>In the USA , more deaths happen in the winter ...</td>\n",
       "      <td>In temperate climates , winter deaths exceed s...</td>\n",
       "      <td>[Abstract, Introduction, Results, Discussion, ...</td>\n",
       "      <td>[epidemiology and global health]</td>\n",
       "      <td>elife-35500-v1</td>\n",
       "    </tr>\n",
       "    <tr>\n",
       "      <th>1</th>\n",
       "      <td>Most people have likely experienced the discom...</td>\n",
       "      <td>Whether complement dysregulation directly cont...</td>\n",
       "      <td>[Abstract, Introduction, Results, Discussion, ...</td>\n",
       "      <td>[microbiology and infectious disease, immunolo...</td>\n",
       "      <td>elife-48378-v2</td>\n",
       "    </tr>\n",
       "    <tr>\n",
       "      <th>2</th>\n",
       "      <td>The immune system protects an individual from ...</td>\n",
       "      <td>Variation in the presentation of hereditary im...</td>\n",
       "      <td>[Abstract, Introduction, Results, Discussion, ...</td>\n",
       "      <td>[microbiology and infectious disease, immunolo...</td>\n",
       "      <td>elife-04494-v1</td>\n",
       "    </tr>\n",
       "    <tr>\n",
       "      <th>3</th>\n",
       "      <td>The brain adapts to control our behavior in di...</td>\n",
       "      <td>Rapid and flexible interpretation of conflicti...</td>\n",
       "      <td>[Abstract, Introduction, Results, Discussion, ...</td>\n",
       "      <td>[neuroscience]</td>\n",
       "      <td>elife-12352-v2</td>\n",
       "    </tr>\n",
       "    <tr>\n",
       "      <th>4</th>\n",
       "      <td>Cells use motor proteins that to move organell...</td>\n",
       "      <td>Myosin 5a is a dual-headed molecular motor tha...</td>\n",
       "      <td>[Abstract, Introduction, Results, Discussion, ...</td>\n",
       "      <td>[structural biology and molecular biophysics]</td>\n",
       "      <td>elife-05413-v2</td>\n",
       "    </tr>\n",
       "  </tbody>\n",
       "</table>\n",
       "</div>"
      ],
      "text/plain": [
       "                                         lay_summary  \\\n",
       "0  In the USA , more deaths happen in the winter ...   \n",
       "1  Most people have likely experienced the discom...   \n",
       "2  The immune system protects an individual from ...   \n",
       "3  The brain adapts to control our behavior in di...   \n",
       "4  Cells use motor proteins that to move organell...   \n",
       "\n",
       "                                             article  \\\n",
       "0  In temperate climates , winter deaths exceed s...   \n",
       "1  Whether complement dysregulation directly cont...   \n",
       "2  Variation in the presentation of hereditary im...   \n",
       "3  Rapid and flexible interpretation of conflicti...   \n",
       "4  Myosin 5a is a dual-headed molecular motor tha...   \n",
       "\n",
       "                                            headings  \\\n",
       "0  [Abstract, Introduction, Results, Discussion, ...   \n",
       "1  [Abstract, Introduction, Results, Discussion, ...   \n",
       "2  [Abstract, Introduction, Results, Discussion, ...   \n",
       "3  [Abstract, Introduction, Results, Discussion, ...   \n",
       "4  [Abstract, Introduction, Results, Discussion, ...   \n",
       "\n",
       "                                            keywords              id  \n",
       "0                   [epidemiology and global health]  elife-35500-v1  \n",
       "1  [microbiology and infectious disease, immunolo...  elife-48378-v2  \n",
       "2  [microbiology and infectious disease, immunolo...  elife-04494-v1  \n",
       "3                                     [neuroscience]  elife-12352-v2  \n",
       "4      [structural biology and molecular biophysics]  elife-05413-v2  "
      ]
     },
     "execution_count": 7,
     "metadata": {},
     "output_type": "execute_result"
    }
   ],
   "source": [
    "df.head()"
   ]
  },
  {
   "cell_type": "code",
   "execution_count": 16,
   "metadata": {},
   "outputs": [
    {
     "data": {
      "text/plain": [
       "Text(0.5, 1.0, 'Summary token length')"
      ]
     },
     "execution_count": 16,
     "metadata": {},
     "output_type": "execute_result"
    },
    {
     "data": {
      "image/png": "[encoded data removed]",
      "text/plain": [
       "<Figure size 640x480 with 1 Axes>"
      ]
     },
     "metadata": {},
     "output_type": "display_data"
    }
   ],
   "source": [
    "plt.hist(token_lengths(df.lay_summary.to_list()))\n",
    "plt.title(\"Summary token length\")"
   ]
  },
  {
   "cell_type": "markdown",
   "metadata": {},
   "source": [
    "### Categories"
   ]
  },
  {
   "cell_type": "code",
   "execution_count": 7,
   "metadata": {},
   "outputs": [
    {
     "data": {
      "text/plain": [
       "neuroscience                                   1240\n",
       "cell biology                                    922\n",
       "developmental biology                           553\n",
       "biochemistry and chemical biology               505\n",
       "structural biology and molecular biophysics     480\n",
       "microbiology and infectious disease             420\n",
       "chromosomes and gene expression                 353\n",
       "computational and systems biology               298\n",
       "genetics and genomics                           261\n",
       "evolutionary biology                            253\n",
       "immunology and inflammation                     243\n",
       "short report                                    227\n",
       "cancer biology                                  207\n",
       "tools and resources                             205\n",
       "plant biology                                   158\n",
       "ecology                                         154\n",
       "stem cells and regenerative medicine            131\n",
       "epidemiology and global health                  104\n",
       "medicine                                         96\n",
       "physics of living systems                        87\n",
       "research communication                           14\n",
       "Name: keywords, dtype: int64"
      ]
     },
     "execution_count": 7,
     "metadata": {},
     "output_type": "execute_result"
    }
   ],
   "source": [
    "df.keywords.explode().value_counts()"
   ]
  },
  {
   "cell_type": "markdown",
   "metadata": {},
   "source": [
    "### Token lengths\n",
    "\n",
    "Article token lengths"
   ]
  },
  {
   "cell_type": "code",
   "execution_count": 11,
   "metadata": {
    "scrolled": true
   },
   "outputs": [],
   "source": [
    "tokenizer = AutoTokenizer.from_pretrained(\"microsoft/biogpt\")"
   ]
  },
  {
   "cell_type": "code",
   "execution_count": 12,
   "metadata": {},
   "outputs": [],
   "source": [
    "def token_lengths(texts):\n",
    "    tokens = tokenizer(texts)\n",
    "    return list(map(lambda x: len(x), tokens['input_ids']))"
   ]
  },
  {
   "cell_type": "code",
   "execution_count": 13,
   "metadata": {},
   "outputs": [
    {
     "name": "stderr",
     "output_type": "stream",
     "text": [
      "Token indices sequence length is longer than the specified maximum sequence length for this model (16268 > 1024). Running this sequence through the model will result in indexing errors\n"
     ]
    }
   ],
   "source": [
    "art_lens = token_lengths(df.sample(n = 100).article.to_list())"
   ]
  },
  {
   "cell_type": "code",
   "execution_count": 14,
   "metadata": {},
   "outputs": [
    {
     "data": {
      "text/plain": [
       "'Sample average token length of articles for BioGPT tokenizer: 12992.41'"
      ]
     },
     "execution_count": 14,
     "metadata": {},
     "output_type": "execute_result"
    }
   ],
   "source": [
    "f\"Sample average token length of articles for BioGPT tokenizer: {np.average(art_lens)}\""
   ]
  },
  {
   "cell_type": "code",
   "execution_count": 15,
   "metadata": {},
   "outputs": [
    {
     "data": {
      "text/plain": [
       "(array([ 3.,  8., 15., 28., 17., 14.,  6.,  5.,  3.,  1.]),\n",
       " array([ 3139.,  5512.,  7885., 10258., 12631., 15004., 17377., 19750.,\n",
       "        22123., 24496., 26869.]),\n",
       " <BarContainer object of 10 artists>)"
      ]
     },
     "execution_count": 15,
     "metadata": {},
     "output_type": "execute_result"
    },
    {
     "data": {
      "image/png": "[encoded data removed]",
      "text/plain": [
       "<Figure size 640x480 with 1 Axes>"
      ]
     },
     "metadata": {},
     "output_type": "display_data"
    }
   ],
   "source": [
    "plt.hist(art_lens)"
   ]
  },
  {
   "cell_type": "markdown",
   "metadata": {},
   "source": [
    "Lay Summary token lengths"
   ]
  },
  {
   "cell_type": "code",
   "execution_count": 16,
   "metadata": {},
   "outputs": [
    {
     "data": {
      "text/plain": [
       "(array([ 4.,  4.,  9., 21., 28.,  9., 10., 12.,  1.,  2.]),\n",
       " array([245. , 282.3, 319.6, 356.9, 394.2, 431.5, 468.8, 506.1, 543.4,\n",
       "        580.7, 618. ]),\n",
       " <BarContainer object of 10 artists>)"
      ]
     },
     "execution_count": 16,
     "metadata": {},
     "output_type": "execute_result"
    },
    {
     "data": {
      "image/png": "[encoded data removed]",
      "text/plain": [
       "<Figure size 640x480 with 1 Axes>"
      ]
     },
     "metadata": {},
     "output_type": "display_data"
    }
   ],
   "source": [
    "sum_lens = token_lengths(df.sample(n = 100).lay_summary.to_list())\n",
    "plt.hist(sum_lens)"
   ]
  },
  {
   "cell_type": "markdown",
   "metadata": {},
   "source": [
    "## With LexRank"
   ]
  },
  {
   "cell_type": "code",
   "execution_count": null,
   "metadata": {
    "scrolled": true
   },
   "outputs": [],
   "source": [
    "!pip install lexrank"
   ]
  },
  {
   "cell_type": "code",
   "execution_count": 33,
   "metadata": {},
   "outputs": [],
   "source": [
    "from lexrank import LexRank\n",
    "from lexrank.mappings.stopwords import STOPWORDS\n",
    "from path import Path"
   ]
  },
  {
   "cell_type": "code",
   "execution_count": 48,
   "metadata": {
    "scrolled": false
   },
   "outputs": [
    {
     "data": {
      "text/html": [
       "<div>\n",
       "<style scoped>\n",
       "    .dataframe tbody tr th:only-of-type {\n",
       "        vertical-align: middle;\n",
       "    }\n",
       "\n",
       "    .dataframe tbody tr th {\n",
       "        vertical-align: top;\n",
       "    }\n",
       "\n",
       "    .dataframe thead th {\n",
       "        text-align: right;\n",
       "    }\n",
       "</style>\n",
       "<table border=\"1\" class=\"dataframe\">\n",
       "  <thead>\n",
       "    <tr style=\"text-align: right;\">\n",
       "      <th></th>\n",
       "      <th>lay_summary</th>\n",
       "      <th>article</th>\n",
       "      <th>headings</th>\n",
       "      <th>keywords</th>\n",
       "      <th>id</th>\n",
       "    </tr>\n",
       "  </thead>\n",
       "  <tbody>\n",
       "    <tr>\n",
       "      <th>2177</th>\n",
       "      <td>Inside tumors , cancer cells often have to com...</td>\n",
       "      <td>Tumors frequently exhibit aberrant glycosylati...</td>\n",
       "      <td>[Abstract, Introduction, Results, Discussion, ...</td>\n",
       "      <td>[cancer biology]</td>\n",
       "      <td>elife-62644-v1</td>\n",
       "    </tr>\n",
       "  </tbody>\n",
       "</table>\n",
       "</div>"
      ],
      "text/plain": [
       "                                            lay_summary  \\\n",
       "2177  Inside tumors , cancer cells often have to com...   \n",
       "\n",
       "                                                article  \\\n",
       "2177  Tumors frequently exhibit aberrant glycosylati...   \n",
       "\n",
       "                                               headings          keywords  \\\n",
       "2177  [Abstract, Introduction, Results, Discussion, ...  [cancer biology]   \n",
       "\n",
       "                  id  \n",
       "2177  elife-62644-v1  "
      ]
     },
     "execution_count": 48,
     "metadata": {},
     "output_type": "execute_result"
    }
   ],
   "source": [
    "smp = df.sample(n=1)\n",
    "smp"
   ]
  },
  {
   "cell_type": "code",
   "execution_count": 55,
   "metadata": {},
   "outputs": [
    {
     "data": {
      "text/plain": [
       "['Tumors frequently exhibit aberrant glycosylation , which can impact cancer progression and therapeutic responses . The hexosamine biosynthesis pathway ( HBP ) produces uridine diphosphate N-acetylglucosamine ( UDP-GlcNAc ) , a major substrate for glycosylation in the cell . Prior studies have identified the HBP as a promising therapeutic target in pancreatic ductal adenocarcinoma ( PDA ) . The HBP requires both glucose and glutamine for its initiation . The PDA tumor microenvironment is nutrient poor , however , prompting us to investigate how nutrient limitation impacts hexosamine synthesis . Here , we identify that glutamine limitation in PDA cells suppresses de novo hexosamine synthesis but results in increased free GlcNAc abundance . GlcNAc salvage via N-acetylglucosamine kinase ( NAGK ) is engaged to feed UDP-GlcNAc pools . NAGK expression is elevated in human PDA , and NAGK deletion from PDA cells impairs tumor growth in mice . Together , these data identify an important role for NAGK-dependent hexosamine salvage in supporting PDA tumor growth . \\n Altered glycosylation is frequently observed in malignancies , impacting tumor growth as well as immune and therapeutic responses ( Akella et al . , 2019; Mereiter et al . , 2019; Munkley , 2019 ) . Several types of glycosylation , including O-GlcNAcylation and N-linked glycosylation , are dependent on the glycosyl donor uridine diphosphate N-acetylglucosamine ( UDP-GlcNAc ) , which is synthesized by the hexosamine biosynthesis pathway ( HBP ) . The HBP branches off from glycolysis with the transfer of glutamine’s amido group to fructose-6-phosphate ( F-6-P ) to generate glucosamine-6-phosphate ( GlcN-6-P ) , mediated by the rate limiting enzyme glutamine—fructose-6-phosphate transaminase ( GFPT1/2 ) . The pathway further requires acetyl-CoA , ATP , and uridine triphosphate ( UTP ) to ultimately generate UDP-GlcNAc . O-GlcNAcylation , the addition of a single N-acetylglucosamine ( GlcNAc ) moiety onto a serine or threonine residue of intracellular proteins , is upregulated in multiple cancers ( Akella et al . , 2019 ) . Targeting O-GlcNAcylation suppresses the growth of breast , prostate , and colon cancer tumors ( Caldwell et al . , 2010; Ferrer et al . , 2017; Gu et al . , 2010; Guo et al . , 2017; Lynch et al . , 2012 ) . Similarly , highly branched N-glycan structures are sensitive to HBP flux and are upregulated in malignant tissue ( Lau et al . , 2007 ) , and targeting the relevant Golgi GlcNAc transferase enzymes can limit tumor growth and metastasis in vivo ( Granovsky et al . , 2000; Li et al . , 2008; Zhou et al . , 2011 ) . Thus , improved understanding of\\xa0the regulation of the HBP in cancer could point towards novel therapeutic strategies . Pancreatic ductal adenocarcinoma ( PDA ) is a deadly disease with a 5 year survival rate of 9% and a rising number of annual deaths ( Rahib et al . , 2014 ) ( ACS Cancer Facts and Figures 2019 , NIH SEER report 2019 ) . Mutations in KRAS occur in nearly all cases of human PDA and drive extensive metabolic reprogramming in cancer cells . Enhanced flux into the HBP was identified as a primary metabolic feature mediated by mutant KRAS in PDA cells ( Ying et al . , 2012 ) . Hypoxia , a salient characteristic of the tumor microenvironment ( Lyssiotis and Kimmelman , 2017 ) , was shown to further promote expression of glycolysis and HBP genes in pancreatic cancer cells ( Guillaumond et al . , 2013 ) . Notably , the glutamine analog 6-diazo-5-oxo-l-norleucine ( DON ) , which inhibited the HBP , suppressed PDA metastasis , and sensitized PDA tumors to anti-PD1 therapy ( Sharma et al . , 2020 ) . DON has also been reported to sensitize PDA cells to the chemotherapeutic gemcitabine in vitro ( Chen et al . , 2017 ) . Additionally , a recently developed inhibitor targeting the HBP enzyme phosphoacetylglucosamine mutase 3 ( PGM3 ) enhances gemcitabine-mediated reduction of xenograft tumor growth in vivo ( Ricciardiello et al . , 2020 ) . Thus , the HBP may represent a therapeutic target in PDA , although the regulation of UDP-GlcNAc synthesis and the optimal strategies to target this pathway for therapeutic benefit in PDA remain poorly understood . An outstanding question is the impact of the tumor microenvironment on UDP-GlcNAc synthesis . The HBP has been proposed as a nutrient-sensing pathway since its rate-limiting step , mediated by GFPT1/2 , requires both glutamine and the glycolytic intermediate fructose-6-phosphate ( Denzel and Antebi , 2015 ) . In hematopoietic cells , glucose deprivation limits UDP-GlcNAc levels and dramatically reduces levels of the N-glycoprotein IL3Rα at the plasma membrane in a manner dependent on the HBP ( Wellen et al . , 2010 ) . Similarly , O-GlcNAcylation of certain nuclear-cytosolic proteins , including cancer-relevant proteins such as Myc and Snail , has been demonstrated to be nutrient sensitive , impacting protein stability or function ( Housley et al . , 2008; Park et al . , 2010; Swamy et al . , 2016 ) . Yet , the PDA tumor microenvironment is thought to be particularly nutrient poor , owing to its characteristic dense stroma ( Halbrook and Lyssiotis , 2017 ) . This raises the question of how nutrient deprivation impacts the synthesis of UDP-GlcNAc and its utilization for glycosylation . Understanding how PDA cells regulate these processes under nutrient limitation could identify therapeutic vulnerabilities . In this study , we investigated the impact of nutrient deprivation on the HBP and glycosylation in PDA cells , identifying a key role for hexosamine salvage through the enzyme N-acetylglucosamine kinase ( NAGK ) in PDA tumor growth . \\n To examine the effects of nutrient deprivation on glycosylation , we cultured cells under glucose or glutamine limitation and examined O-GlcNAc levels and cell surface phytohemagglutinin-L ( L-PHA ) binding , a readout of N-acetylglucosaminyltransferase 5 ( MGAT5 ) -mediated cell surface N-glycans ( Figure 1—figure supplement 1A , B ) , which are highly sensitive to UDP-GlcNAc availability ( Lau et al . , 2007 ) . We focused on glucose and glutamine because of their requirement to initiate the HBP ( Figure 1A ) . First , as a positive control , we examined HCT-116 and SW480 colon cancer cells , previously documented to have glucose-responsive O-GlcNAcylation ( Park et al . , 2010; Steenackers et al . , 2016 ) , which we also confirmed in HCT-116 cells ( Figure 1B ) . Indeed , L-PHA binding was suppressed by glucose restriction in SW480 cells and by glutamine restriction in both colon cancer cell lines ( Figure 1C ) . Next , to test whether glycans were sensitive to nutrient restriction in PDA cells , we examined L-PHA binding and O-GlcNAc levels under nutrient deprivation conditions in a panel of human PDA cell lines , including PANC-1 , MIA PaCa-2 , AsPC-1 , and HPAC . Across these cell lines , no consistent changes in L-PHA binding were observed under glucose or glutamine limitation ( Figure 1D , E , Figure 1—figure supplement 1C ) . We also examined L-PHA binding in PDA cells under oxygen- or serum-deprived conditions and observed minimal changes ( Figure 1—figure supplement 1D , E ) . O-GlcNAcylation was minimally altered by culture in low glutamine and exhibited variable changes in response to glucose limitation ( Figure 1F ) , consistent with stress-induced regulation of this modification ( Taylor et al . , 2008 ) . Since glycosylation may be maintained through either sustained ability to add the modifications or through changes in turnover , we assayed active O-GlcNAcylation by inhibiting O-GlcNAcase with Thiamet G ( TMG ) . TMG treatment resulted in equivalently elevated O-GlcNAcylation levels in high and low glutamine conditions ( Figure 1G; Figure 1—figure supplement 1F ) , indicating that glutamine restriction does not limit the capacity of cells to add the O-GlcNAc modification . Mia-PaCa-2 cells exhibited some cell death in low glutamine , though this was not exacerbated by TMG treatment ( Figure 1—figure supplement 1F ) . Thus , under a variety of nutrient stress conditions , neither L-PHA binding nor O-GlcNAcylation were consistently suppressed in pancreatic cancer cell lines . Glutamine restriction in particular had remarkably little impact on O-GlcNAcylation and L-PHA binding , raising the question of how UDP-GlcNAc is generated during nutrient limitation . We therefore next asked whether the abundance of HBP metabolites is impacted by nutrient limitation . We measured HBP metabolites after glucose or glutamine restriction using HPLC-MS ( Guo et al . , 2016b ) . In low glutamine conditions , GlcN-6-P levels were potently decreased relative to glutamine-replete conditions in PANC-1 cells , while UDP-GlcNAc abundance was maintained ( Figure 2A ) . In MIA PaCa-2 cells , UDP-GlcNAc abundance actually increased upon glutamine restriction ( Figure 2—figure supplement 1A ) . These data indicate that UDP-GlcNAc might be generated through mechanisms other than de novo synthesis . Glycolytic intermediates were minimally impacted by low glutamine conditions , and TCA cycle intermediates such as α-KG and malate decreased as expected ( Figure 2A , Figure 2—figure supplement 1A ) . In contrast to that in glutamine restriction , UDP-GlcNAc abundance declined in 5 mM or 0 . 1 mM relative to 10 mM glucose conditions ( Figure 2—figure supplement 1B ) , suggesting that glutamine limitation specifically may trigger an adaptive response to sustain UDP-GlcNAc pools . We sought to understand how UDP-GlcNAc pools are sustained during glutamine restriction . In addition to de novo synthesis of UDP-GlcNAc via the HBP , free GlcNAc in the cell can also be phosphorylated via N-acetylglucosamine kinase ( NAGK ) to produce GlcNAc-P and then regenerate UDP-GlcNAc ( Figure 2B ) . However , NAGK’s roles in physiology and cancer biology have been minimally studied . To investigate the possibility that UDP-GlcNAc is generated through mechanisms other than its synthesis from glucose , we first designed a stable isotope labeling strategy to quantify the fraction of the glucosamine ring that is synthesized de novo in glutamine-replete versus -restricted conditions . Since multiple components of UDP-GlcNAc [glucosamine ring , acetyl group , uridine ( both the uracil nucleobase and the ribose ring ) ] can be synthesized from glucose , UDP-GlcNAc isotopologs up to M+16 can be generated from glucose ( Moseley et al . , 2011; Figure 2C ) . In order to measure the glucose carbon incorporated into GlcNAc-P and UDP-GlcNAc via the HBP , all isotopologs containing a fully labeled glucosamine ring are added together ( % labeled GlcN indicates sum of M+6 , M+8 , M+11 , and M+13 for UDP-GlcNAc and sum of M+6 and M+8 for GlcNAc-P ) ( Figure 2C ) . After 48 hr of glutamine restriction , cells were incubated with fresh low glutamine medium containing [U-13C]-glucose to track the incorporation of glucose carbons into hexosamine intermediates . Across multiple PDA cell lines , the fractional labeling of the glucosamine ring in both GlcNAc-P and UDP-GlcNAc pools was markedly suppressed by glutamine restriction , indicating decreased de novo synthesis in low glutamine conditions ( Figure 2D , Figure 2—figure supplement 1C–E ) . Notably , labeling into the ribose component of UDP-GlcNAc was also suppressed ( % labeled ribose indicates sum of isotopologs containing M+5 [i . e . , M+5 , M+7 , M+11 , and M+13]; Figure 2D , Figure 2—figure supplement 1C ) . Consistently , incorporation of 13C glucose into UTP was suppressed upon glutamine restriction ( Figure 2—figure supplement 2A ) , even though UTP levels were maintained or increased ( Figure 2A , Figure 2—figure supplement 1A ) , suggesting a role for nucleoside salvage in maintaining nucleotide pool in these conditions . This is consistent with previous reports demonstrating that autophagy/ribophagy is a source of nucleosides in amino acid-deprived conditions ( Guo et al . , 2016a; Wyant et al . , 2018 ) . Indeed , silencing of either of the uridine salvage enzymes uridine kinase 1 or 2 ( UCK1/2 ) resulted in decreased UDP , UTP , and UDP-GlcNAc levels ( Figure 2—figure supplement 2B , C ) , indicating that nucleoside salvage contributes to maintaining uridine phosphate and UDP-GlcNAc pools . Thus , glutamine restriction suppresses the de novo synthesis of both GlcNAc-P and UTP , both of which are required to produce UDP-GlcNAc . We noted that GlcNAc-P and UDP-GlcNAc pools labeled from glucose with similar but not identical kinetics . While this is potentially due to limitations in detection since GlcNAc-P is much less abundant than UDP-GlcNAc , we considered whether GlcNAc-P-independent pathways may also have minor contributions to glucose-dependent UDP-GlcNAc labeling . Although pathways through which glucose can feed into UDP-GlcNAc’s glucosamine ring independent of the HBP have not been described in mammalian cells to our knowledge , we nevertheless tested the two major metabolic branch points diverging from UDP-GlcNAc , which mediate UDP-GalNAc and sialic acid synthesis . UDP-galactose-4-epimerase ( GALE ) interconverts UDP-GlcNAc and UDP-GalNAc , and UDP-GlcNAc-2-epimerase/ManAc kinase ( GNE ) initiates sialic acid biosynthesis . Silencing of neither GALE nor GNE reduced UDP-GlcNAc labeling from glucose , however , indicating that these enzymes are unlikely to facilitate a bypass pathway ( Figure 2—figure supplement 2D , E ) . Although a minor contribution from another unknown pathway cannot be ruled out , the slight apparent differences in timing of GlcNAc-P and UDP-GlcNAc labeling most likely reflect technical limitations . Regardless , the data clearly indicate that UDP-GlcNAc abundance is maintained despite reduced de novo hexosamine synthesis from glucose ( Figure 2D ) . As mentioned , UDP-GlcNAc can be generated via phosphorylation of free GlcNAc by NAGK-generating GlcNAc-6-P ( Figure 2B ) . When supplemented , GlcNAc is salvaged into the UDP-GlcNAc pool ( Ryczko et al . , 2016; Wellen et al . , 2010 ) . Endogenous sources of GlcNAc may include removal of O-GlcNAc protein modifications or breakdown of glycoconjugates and extracellular matrix components . Notably , intracellular levels of GlcNAc increase upon glutamine restriction ( Figure 3A ) . Yet , the significance of GlcNAc salvage to maintenance of UDP-GlcNAc pools has been little studied , and the proportion of UDP-GlcNAc generated via the NAGK-dependent salvage pathway is unknown . NAGK mRNA expression increased in PDA cell lines in low glutamine conditions and in some cell lines also in low glucose ( Figure 2—figure supplement 3A , B ) . GFPT1 expression was also induced in both low glucose conditions , consistent with a prior report ( Moloughney et al . , 2016 ) , and in low glutamine conditions ( Figure 2—figure supplement 3A ) , even though de novo synthesis is suppressed when glutamine is limited . Protein levels of NAGK did not increase in concordance with mRNA at these time points , however , although a mobility shift potentially indicative of post-translational modification was apparent when protein lysates were run on a gel using a large electrophoresis system ( see Materials\\xa0and\\xa0methods; Figure 2—figure supplement 3C , D ) . Removal of the phosphatase inhibitor Na3VO4 from the sample buffer prevented the mobility shift , suggesting that NAGK may be phosphorylated on one or more residues in low glutamine conditions ( Figure 2—figure supplement 3D ) . Taken together , these data indicate that under low glutamine conditions , GlcNAc availability for salvage increases and the salvage enzyme NAGK is subject to regulation . These findings prompted us to investigate the role of NAGK in UDP-GlcNAc synthesis in PDA cells . We functionally examined the role of NAGK in PDA cell lines by using CRISPR-Cas9 gene editing to generate NAGK knockout ( KO ) PANC-1 and MiaPaCa-2 clonal cell lines ( Figure 3—figure supplement 1A , B ) . N-[1 , 2-13C2]acetyl-d-glucosamine ( 13C GlcNAc ) was efficiently salvaged in control cells , and this was suppressed by NAGK deletion , as evidenced by reduced fractional labeling of GlcNAc-P and UDP-GlcNAc ( Figure 3B ) . Since we did not observe any residual protein expression , we hypothesized that the N-acetylgalactosamine ( GalNAc ) salvage enzyme GalNAc kinase ( GALK2 ) might be responsible for the remaining GlcNAc salvage in the absence of NAGK . Indeed , silencing of GALK2 further suppressed incorporation of 13C GlcNAc into GlcNAc-P and UDP-GlcNAc in the NAGK KO cells ( Figure 3—figure supplement 1C ) . We hypothesized that knockout cells would conversely conduct increased de novo UDP-GlcNAc synthesis . To test this , we incubated cells with [U-13C]-glucose and examined incorporation into GlcNAc-P and UDP-GlcNAc . Indeed , in the absence of NAGK , we observed increased glucose-dependent fractional labeling of the glucosamine ring of UDP-GlcNAc and GlcNAc-P , but not the ribose component of UDP-GlcNAc ( Figure 3C , D , Figure 3—figure supplement 1D , E ) . This effect was also observed with knockdown of NAGK by shRNA , though to a lesser extent ( Figure 3—figure supplement 2A , B ) . Incorporation of glucose into F-6-P did not change ( Figure 3C ) , and the proportion of UDP-GlcNAc containing an M+5 ribose ring was also unchanged in knockout cells ( Figure 3D ) , as expected . Thus , when NAGK is deleted and GlcNAc salvage is suppressed , de novo hexosamine synthesis increases . We next assessed changes in the levels of hexosamine intermediates in control and NAGK KO cell lines . In PANC-1 KO cells in 4 mM glutamine , GlcN-P increased significantly , consistent with increased de novo synthesis in the absence of NAGK ( Figure 3E ) . GlcNAc-P was modestly reduced in KO cells , though UDP-GlcNAc levels were maintained ( Figure 3E ) . In MIA PaCa-2 cells , GlcNAc-P was markedly suppressed in the absence of NAGK , though UDP-GlcNAc was not ( Figure 3—figure supplement 2C ) . We also measured HBP metabolites under glutamine restriction , where we expected NAGK would play a more significant role in UDP-GlcNAc generation . We were only able to measure metabolites accurately in PANC-1 KO cells because MIA PaCa-2 NAGK KO cells began to die quickly in low glutamine , which will be discussed further in the next section . GlcN-P decreased in control and KO cells , consistent with reduced de novo hexosamine synthesis ( Figure 3E ) . GlcNAc-P levels decreased in low glutamine in control cells and decreased further in cells lacking NAGK , consistent with contributions from both de novo synthesis and salvage ( Figure 3E ) . Reciprocally , GlcNAc abundance was elevated upon glutamine limitation in both control and NAGK KO cells ( Figure 3E ) . UDP-GlcNAc abundance was modestly reduced in NAGK KO cells relative to controls under glutamine restriction , though levels were still comparable to that in high glutamine ( Figure 3E ) , possibly reflecting changes in utilization . GALK2 silencing did not further suppress UDP-GlcNAc in NAGK KO cells ( Figure 3—figure supplement 2D ) , suggesting that GALK2 may not have a major role in physiological GlcNAc salvage . Cumulatively , the data demonstrate that GlcNAc is salvaged into UDP-GlcNAc pools in PDA cells in a manner dependent at least in part on NAGK . To test the role of NAGK in cell proliferation , we first monitored growth of NAGK KO cells compared to controls in 2D and 3D culture in 4 mM glutamine , finding minimal differences ( Figure 4A , Figure 4—figure supplement 1 ) . We hypothesized that NAGK KO cell proliferation would be impaired in 0 . 05 mM glutamine , where de novo UDP-GlcNAc synthesis is suppressed . Indeed , MIA PaCa-2 KO cells died more quickly in 0 . 05 mM glutamine than did control cells ( Figure 4A ) . PANC-1 KO cells did not show this effect ( Figure 4A ) , but we hypothesized that NAGK loss might have a stronger effect in vivo where tumor growth can be constrained by nutrient availability . To gain initial insight into whether NAGK is likely to play a functional role in PDA progression in vivo , we queried publicly available datasets . From analysis of publicly available microarray data ( Pei et al . , 2009 ) and gene expression data from the Cancer Genome Atlas ( TCGA ) , we indeed found NAGK expression to be increased in tumor tissue relative to adjacent normal regions of the pancreas or to pancreas GTEx data ( Figure 4B , Figure 4—figure supplement 1B ) . GFPT1 expression was also increased in tumor tissue ( Figure 4B , Figure 4—figure supplement 1B ) , consistent with its regulation by mutant KRAS ( Ying et al . , 2012 ) . Two other HBP genes , PGM3 and UAP1 , did not show significantly increased expression in PDA tumors in these datasets ( Figure 4B , Figure 4—figure supplement 1B ) . We then studied the role of NAGK in tumor growth in vivo by injecting NAGK CRISPR KO cells into the flank of NCr nude mice . Final tumor volume and weight were markedly reduced in the absence of NAGK ( Figure 4C–D ) . Of note , initial tumor growth was comparable between control and KO cells , but the NAGK knockout tumors either stopped growing or shrank while control tumors continued to grow larger ( Figure 4—figure supplement 1C ) . Interestingly , KO tumor samples showed increased L-PHA signal ( Figure 4—figure supplement 1D ) , indicating that NAGK deficiency results in altered glycosylation within tumors . This could possibly reflect either elevated de novo synthesis in the small tumors that form or differences in cellular composition . For example , activated fibroblast marker α-smooth muscle actin ( α-SMA ) was more abundant in the NAGK KO tumors ( Figure 4—figure supplement 1D ) . Residual NAGK signal in whole tumors also presumably reflects expression in other cell types ( Figure 4—figure supplement 1D ) , since NAGK was undetectable in the clonal cell lines used for injections ( Figure 3—figure supplement 1B ) . Taken together , these data are consistent with the notion that NAGK is dispensable when nutrients are abundant but becomes more important as the tumors outgrow their original nutrient supply and become more dependent on scavenging and recycling and indicate that NAGK-mediated hexosamine salvage supports tumor growth in vivo . \\n In this study , we identify a key role for NAGK in salvaging GlcNAc for UDP-GlcNAc synthesis in PDA cells . We show that glutamine deprivation suppresses de novo hexosamine biosynthesis , which is reciprocally increased upon NAGK deletion . Glutamine deprivation also results in increased availability of GlcNAc for salvage . NAGK expression is elevated in human PDA tumors , and NAGK deficiency suppresses GlcNAc salvage in cells and tumor growth in mice . This work raises several key questions for future investigation . First , the sources of GlcNAc salvaged by NAGK remain to be fully elucidated . GlcNAc may be derived from recycling of GlcNAc following O-GlcNAc removal or breakdown of glycoconjugates . Additionally , GlcNAc may be recovered from the environment . Nutrient scavenging via macropinocytosis is a key feature of PDA ( Commisso et al . , 2013; Kamphorst et al . , 2015 ) . Macropinocytosis has mostly been associated with scavenging of protein to recover amino acids , but lysosomal break down of glycoproteins may also release sugars including GlcNAc . Additionally , ECM components , including hyaluronic acid ( HA ) , which is a polymer of GlcNAc and glucuronic acid disaccharide units , may be additional sources of GlcNAc for salvage in the tumor microenvironment . Indeed , in a manuscript co-submitted with this one , Kim et al . , 2020\\xa0identify HA as a major source of scavenged GlcNAc . Our manuscript and the Kimet al . ’s manuscript together indicate that NAGK may take on a heightened importance in the context of high GlcNAc availability and nutrient deprivation , a situation that is likely to occur within the tumor microenvironment . Furthermore , the key fates of UDP-GlcNAc that support tumor growth remain to be elucidated . Sufficient UDP-GlcNAc is required for protein glycosylation to maintain homeostasis and prevent ER stress , particularly in a rapidly dividing cell . Additionally , a wide range of cancers exhibit elevated O-GlcNAc , which could contribute to driving pro-tumorigenic transcriptional and signaling programs . In PDA specifically , the glycan CA19-9 is currently used as a biomarker for disease progression and recent studies point to a functional role for CA19-9 in tumorigenesis ( Engle et al . , 2019 ) . UDP-GlcNAc is also required for HA synthesis , which is present in low amounts in normal pancreas but increases in PanIN lesions and PDA ( Provenzano et al . , 2012 ) . PDA cells are capable of producing HA in vitro ( Mahlbacher et al . , 1992 ) . Depletion of fibroblasts in an autochthonous PDA mouse model results in a decrease in collagen I , but not HA in the tumor microenvironment , indicating that HA must be generated by another cell type , possibly the tumor cells themselves ( Özdemir et al . , 2014 ) . Previous studies demonstrated that treatment of PDA with exogenous hyaluronidase can increase vascularization and improve drug delivery to the tumor ( Jacobetz et al . , 2013; Provenzano et al . , 2012 ) , although a phase III clinical trial reported no improvement in overall patient survival when combining pegylated hyaluronidase with nab-paclitaxel plus gemcitabine ( Van Cutsem et al . , 2020 ) . Recently , it was shown that inhibiting the HBP by treatment with DON depletes HA and collagen in an orthotopic mouse model . DON treatment also increased CD8 T-cell infiltration into the tumor , sensitizing the tumor to anti-PD1 therapy ( Sharma et al . , 2020 ) . Thus , targeting the HBP holds promise for improving the efficacy of other therapeutics . The findings of the current study suggest that in addition to de novo hexosamine synthesis , targeting of hexosamine salvage warrants further investigation in terms of potential for therapeutic intervention . Of note , an inhibitor targeting PGM3 , which converts GlcNAc-6-P to GlcNAc-1-P and is thus required for both de novo UDP-GlcNAc synthesis and GlcNAc recycling , showed efficacy in treating gemcitabine-resistant patient-derived xenograft PDA models ( Ricciardiello et al . , 2020 ) , as well as in breast cancer xenografts ( Ricciardiello et al . , 2018 ) . Finally , almost nothing is currently known about the role of NAGK and GlcNAc salvage in normal physiology . Even in non-cancerous IL-3-dependent hematopoietic cells , a substantial proportion of the UDP-GlcNAc pool remains unlabeled from 13C-glucose ( Wellen et al . , 2010 ) , suggesting that salvage may contribute to UDP-GlcNAc pools in a variety of cell types . However , while GFPT1 is required for embryonic development in mice , NAGK knockout mouse embryos are viable ( Dickinson et al . , 2016 ) . NAGK deficiency has not yet been characterized in postnatal or adult mice . Perhaps GlcNAc salvage is dispensable when nutrients are available and cells are not dividing , as in most healthy tissues . However , in a tumor , in which cells are proliferating and nutrients are spread thin , NAGK and GlcNAc salvage may become more important in feeding UDP-GlcNAc pools . Related questions include elucidating the mechanisms regulating NAGK gene expression and putative post-translational modification , as well as understanding the role of GALK2 in hexosamine salvage . In sum , we report a key role for NAGK in feeding UDP-GlcNAc pools in PDA cells and in supporting xenograft tumor growth . Further investigation will be needed to elucidate the physiological functions of NAGK , as well as the mechanisms through which it supports tumor growth and its potential role in modulating therapeutic responses . \\n Cells were cultured in DMEM high glucose ( Gibco , 11965084 ) with 10% calf serum ( Gemini GemCell U . S . Origin Super Calf Serum , 100–510 ) , unless otherwise noted . Glucose- or glutamine-restricted media was prepared using glucose , glutamine , and phenol red-free DMEM ( Gibco , A1443001 ) supplemented with glucose ( Sigma-Aldrich , G8769 ) , glutamine ( Gibco , 25030081 ) , and dialyzed fetal bovine serum ( Gemini , 100–108 ) . For all glutamine restriction experiments except S2 . 3 D , cells were plated 2–3× more densely for the nutrient-restricted condition samples to achieve similar confluency at the experiment endpoint . One\\xa0percent oxygen levels were achieved by culturing cells in a Whitley H35 Hypoxystation ( Don Whitley Scientific ) . ATCC names and numbers for the cell lines used in this study are\\xa0as\\xa0follows: MIA PaCa-2 ( ATCC# CRL-1420 ) , PANC-1 ( ATCC# CRL-1469 ) , HPAC ( ATCC# CRL-2119 ) , AsPC-1 ( ATCC# CRL-1682 ) , BxPC-3 ( ATCC# CRL-1687 ) , HCT 116 ( ATCC# CCL-247 ) , and SW480 ( ATCC# CCL-228 ) . All cells were routinely tested for mycoplasma and authenticated by short tandem repeat ( STR ) profiling using the GenePrint 10 System ( Promega , B9510 ) . Generation of CRISPR cell lines sgRNA sequences targeting NAGK or Mgat5 from the Brunello and Brie libraries ( Doench et al . , 2016 ) was cloned into the lentiCRISPRv2 vector ( Sanjana et al . , 2014 ) . Lentivirus was produced in 293 T cells according to standard protocol . Cells were then infected with the CRISPR lentivirus and selected with puromycin . Cells were plated at very low density into 96-well plates to establish colonies generated from single-cell clones . Mgat5 gene disruption was validated by qPCR and L-PHA binding . NAGK gene disruption was validated by qPCR , western blot , and 13C-GlcNAc tracing . Seven NAGK knockout clonal cell lines established from three different sgRNAs , four in PANC-1 cells and three in MIA PaCa-2 cells , were chosen for use in the study . Please see table at end of methods for primer sequences of guides used . For protein extraction from cells , cells were kept on ice and washed three times with PBS , then scraped into PBS and spun down at 200 g for 5 min . The cell pellet was resuspended in 50–100 µL RIPA buffer ( 1% NP-40 , 0 . 5% deoxycholate , 0 . 1% SDS , 150 mM NaCl , 50 mM Tris plus protease inhibitor cocktail [Sigma-Aldrich , P8340] and phosSTOP [Sigma-Aldrich , 04906845001] ) , and lysis was allowed to continue on ice for 10 min . Cells were sonicated with a Fisherbrand Model 120 Sonic Dismembrator ( Fisher Scientific , FB120A110 ) for three pulses of 20 s each at 20% amplitude . Cell lysate was spun down at 15 , 000 g for 10 min at 4°C , and supernatant was transferred to a new tube . For protein extraction from tissue , the sample was resuspended in 500 µL RIPA buffer and homogenized using a TissueLyser ( Qiagen , 85210 ) twice for 30 s at 20 Hz . Following incubation on ice for 10 min , the same procedure was followed as for cells . For both cells and tissue , lysate samples were stored at −80°C until analysis by immunoblot . All blots were developed using a LI-COR Odyssey CLx system . Antibodies used in this study were\\xa0as\\xa0follows: O-GlcNAc CTD110 . 6 ( Cell Signaling 9875S ) , tubulin ( Sigma T6199 ) , HSP60 ( Cell Signaling 12165S ) , NAGK ( Atlas Antibodies , HPA035207 ) , and PARP ( Cell Signaling 9532 ) . For blots showing the mobility shift for NAGK in low glutamine , samples were prepared in lysis buffer containing 50 mM Tris pH 8 . 0 , 150 mM NaCl , 0 . 5% IGEPAL CA-630 ( Sigma , I3021 ) , 1 mM PMSF , 1 . 5 µM aprotinin , 84 µM leupeptin , 1 µM pepstatin A , ±10 mM NaF , and 20 mM Na3VO4 as indicated . To visualize the NAGK mobility shift in response to low glutamine , 20 µg total protein per sample was separated across 12 . 5 cm of 11% SDS-PAGE resolving space under reducing conditions using the large electrophoresis systems available from C . B . S . Scientific until approximately 3 cm of separation was obtained between the 25 and 37 kDa protein standards ( Bio-Rad; 1610375 ) . Using electrophoresis , proteins were transferred ( 30 V , 4°C , overnight ) to 0 . 45 µM pore size nitrocellulose membrane ( Amersham , 10600002 ) . The primary antibodies used were NAGK ( Proteintech , 15051–1-AP ) , AKT phosphoS473 ( Cell Signaling Technology , 4060 ) , and Vinculin ( Sigma , V9264 ) . Membranes were developed using the LI-COR Odyssey CLx system . For RNA extraction from cells , cells were put on ice , washed with PBS , and scraped into PBS . Samples were then spun down at 200 g for 5 min and resuspended in 100 µL Trizol ( Life Technologies ) . For RNA extraction from tissue , samples were resuspended in 500 μL Trizol and homogenized using a TissueLyser twice for 30 s at 20 Hz . For both cells and tissue , RNA was extracted following the Trizol manufacturer protocol . cDNA was prepared using high-capacity RNA-to-cDNA master mix ( Applied Biosystems , 4368814 ) according to kit instructions . cDNA was diluted 1:20 and amplified with PowerUp SYBR Green Master Mix ( Applied Biosystems , A25778 ) using a ViiA-7 Real-Time PCR system . Fold change in expression was calculated by the ΔΔCt method using HPRT as a control . Please see table at end of chapter for primer sequences . Cells were put on ice , washed with PBS , and then scraped into PBS . Samples were then spun down at 200 g for 5 min and resuspended in 3% BSA with fluorophore-conjugated lectin added 1:1000 ( Vector Labs FL-1111–2 ) . Samples were covered and incubated on ice for 30 min at room temperature , then spun down , and resuspended in PBS before analysis with an Attune NxT Flow Cytometer ( Thermo Fisher Scientific ) . Data was further analyzed using FlowJo 8 . 7 . For all metabolite quantitation experiments , each sample was collected from a 10 cm sub-confluent plate of cells . To achieve similar confluency and protein content at the experiment end\\xa0point , cells were initially plated more densely for the nutrient-deprived samples than for the nutrient-replete samples . For low glutamine experiments , PANC-1 cells were plated 3 ×\\xa0105 for 4 mM glutamine samples and 5 . 5 ×\\xa0105 for 0 . 05 mM samples . MIA PaCa-2 cells were plated 3 ×\\xa0105 for 4 mM samples and 1 . 2 ×\\xa0106 for 0 . 05 mM samples . Samples were prepared according to Guo et al . , 2016b . Briefly , cells were put on ice and washed 3× with PBS . Then , 1 mL of ice cold 80% methanol was added to the plate , and cells were scraped into solvent and transferred to a 1 . 5 mL tube . For quantitation experiments , internal standard containing a mix of 13C labeled metabolites was added at this time . Samples were then sonicated and spun down , and the supernatants were dried down under nitrogen . The dried samples were then resuspended in 100 µL of 5% sulfosalicylic acid and analyzed by liquid chromatography–high-resolution mass spectrometry as reported ( Guo et al . , 2016b ) with the only modification that the LC was coupled to a Q Exactive-HF with a heated ESI source operating in negative-ion mode alternating full scan and MS/MS modes . The [M-H]− ion of each analyte and its internal standard was quantified , with peak confirmation by MS/MS . GlcNAc quantification was done on a triple quadropole instrument exactly as described ( Guo et al . , 2016b ) . Data analysis was conducted in Thermo XCalibur 3 . 0 Quan Browser and FluxFix ( Trefely et al . , 2016 ) . For quantitation experiments , samples were normalized first to peak integrations of 13C-labeled internal standard components and then to protein content in the sample , measured by BCA assay . Relative quantification was then calculated by normalizing to the control condition in each experiment . For glucose labeling experiments , cells were cultured in DMEM without glucose , glutamine , or phenol red supplemented with 10 mM [U-13C]-glucose ( Cambridge Isotopes , CLM-1396–1 ) , 4 mM glutamine , and 10% dialyzed fetal bovine serum . Cells were incubated for the indicated time , and samples were prepared as above . For GlcNAc labeling experiments , cells were cultured in DMEM without glucose , glutamine , or phenol red supplemented with 10 mM N-[1 , 2–13 C2]acetyl-d-glucosamine ( 13C GlcNAc ) ( Omicron Biochemicals , GLC-006 ) , 4 mM glutamine , 10 mM glucose , and 10% dialyzed fetal bovine serum . Cells were incubated for the indicated time , and samples were prepared as above . Cells were trypsinized and counted using a Bright-Line hemacytometer ( Sigma , Z359629 ) . The bottom agar layer was prepared by adding Bacto Agar ( BD Bioscience , 214050 ) to cell culture media for a final concentration of 0 . 6% . Two\\xa0milliliter bottom agar was added to each well of a six-well tissue culture plate . Once bottom agar solidified , top layer agar was prepared by combining trypsinized cells with the bottom agar mix for a final concentration of 0 . 3% Bacto Agar . One\\xa0milliliter top layer agar was added to each well with a bottom layer of agar . Cells were plated 2 . 5 ×\\xa0104 per well . 0 . 5 mL DMEM high glucose with 10% calf serum was added to cells every 7 days . Images were taken after 3 weeks . Images were blinded , and colonies per image were counted using ImageJ ( Schneider et al . , 2012 ) . Cells were plated 3 . 5 ×\\xa0104 per well of a six-well plate . For each day that counts were recorded , three wells were trypsinized and cells were counted twice using a hemocytometer ( Sigma , Z359629 ) . The average of the two counts was recorded for each well , and the average count of the three wells was used to graph the data . For proliferation assays in 0 . 05 mM glutamine , trypan blue was used during cell counts . The PDAC expression profiling dataset ( GEO accession GSE16515 , Pei et al . , 2009 ) from NCBI GEO Profile database ( Edgar et al . , 2002 ) was used to compare the expression level between human normal and PDAC tumor samples . The dataset consists of 52 samples , in which 16 samples are matched tumor and normal tissues , and 20 samples are only tumor tissues . The statistical analysis was conducted by one-way ANOVA; the level of significance was evaluated by p<0 . 01 and plotted in box-and-whisker diagram . Comparison of HBP gene expression between tumor ( TCGA PAAD dataset ) and normal tissue ( GTEx ) was also conducted using GEPIA2 ( Tang et al . , 2019 ) . 3 ×\\xa0106 PANC-1 NAGK CRISPR cells were injected with 1:1 Matrigel ( Corning , CB354248 ) into the flanks of NCr nude mice and measured with calipers once per week for 22 weeks . At the experiment end\\xa0point ( 22 weeks or when tumor reached 20 mm in length ) , mice were euthanized with CO2 and cervical dislocation . Tumors were removed , weighed , cut into pieces for analysis , and frozen . All animal experiments were approved by the University of Pennsylvania and the Institutional Animal Care and Use Committee ( IACUC ) .']"
      ]
     },
     "execution_count": 55,
     "metadata": {},
     "output_type": "execute_result"
    }
   ],
   "source": [
    "smp.article.to_list()"
   ]
  },
  {
   "cell_type": "code",
   "execution_count": 66,
   "metadata": {},
   "outputs": [],
   "source": [
    "parts = smp.article.to_list()[0].split(\"\\n\")\n",
    "abstr = parts[0]\n",
    "txt = \".\".join(parts[1:]).split(\".\")"
   ]
  },
  {
   "cell_type": "code",
   "execution_count": 68,
   "metadata": {},
   "outputs": [],
   "source": [
    "lxr = LexRank(abstr)"
   ]
  },
  {
   "cell_type": "code",
   "execution_count": 69,
   "metadata": {},
   "outputs": [],
   "source": [
    "summary = lxr.get_summary(txt, summary_size=10, threshold=.1)"
   ]
  },
  {
   "cell_type": "code",
   "execution_count": 70,
   "metadata": {},
   "outputs": [
    {
     "data": {
      "text/plain": [
       "[' Hypoxia , a salient characteristic of the tumor microenvironment ( Lyssiotis and Kimmelman , 2017 ) , was shown to further promote expression of glycolysis and HBP genes in pancreatic cancer cells ( Guillaumond et al ',\n",
       " ' To examine the effects of nutrient deprivation on glycosylation , we cultured cells under glucose or glutamine limitation and examined O-GlcNAc levels and cell surface phytohemagglutinin-L ( L-PHA ) binding , a readout of N-acetylglucosaminyltransferase 5 ( MGAT5 ) -mediated cell surface N-glycans ( Figure 1—figure supplement 1A , B ) , which are highly sensitive to UDP-GlcNAc availability ( Lau et al ',\n",
       " ' In hematopoietic cells , glucose deprivation limits UDP-GlcNAc levels and dramatically reduces levels of the N-glycoprotein IL3Rα at the plasma membrane in a manner dependent on the HBP ( Wellen et al ',\n",
       " ' O-GlcNAcylation was minimally altered by culture in low glutamine and exhibited variable changes in response to glucose limitation ( Figure 1F ) , consistent with stress-induced regulation of this modification ( Taylor et al ',\n",
       " ' To test the role of NAGK in cell proliferation , we first monitored growth of NAGK KO cells compared to controls in 2D and 3D culture in 4 mM glutamine , finding minimal differences ( Figure 4A , Figure 4—figure supplement 1 ) ',\n",
       " ' Indeed , silencing of GALK2 further suppressed incorporation of 13C GlcNAc into GlcNAc-P and UDP-GlcNAc in the NAGK KO cells ( Figure 3—figure supplement 1C ) ',\n",
       " ' In order to measure the glucose carbon incorporated into GlcNAc-P and UDP-GlcNAc via the HBP , all isotopologs containing a fully labeled glucosamine ring are added together ( % labeled GlcN indicates sum of M+6 , M+8 , M+11 , and M+13 for UDP-GlcNAc and sum of M+6 and M+8 for GlcNAc-P ) ( Figure 2C ) ',\n",
       " ' N-[1 , 2-13C2]acetyl-d-glucosamine ( 13C GlcNAc ) was efficiently salvaged in control cells , and this was suppressed by NAGK deletion , as evidenced by reduced fractional labeling of GlcNAc-P and UDP-GlcNAc ( Figure 3B ) ',\n",
       " ' Of note , an inhibitor targeting PGM3 , which converts GlcNAc-6-P to GlcNAc-1-P and is thus required for both de novo UDP-GlcNAc synthesis and GlcNAc recycling , showed efficacy in treating gemcitabine-resistant patient-derived xenograft PDA models ( Ricciardiello et al ',\n",
       " ' Incorporation of glucose into F-6-P did not change ( Figure 3C ) , and the proportion of UDP-GlcNAc containing an M+5 ribose ring was also unchanged in knockout cells ( Figure 3D ) , as expected ']"
      ]
     },
     "execution_count": 70,
     "metadata": {},
     "output_type": "execute_result"
    }
   ],
   "source": [
    "summary"
   ]
  },
  {
   "cell_type": "code",
   "execution_count": 71,
   "metadata": {},
   "outputs": [
    {
     "name": "stdout",
     "output_type": "stream",
     "text": [
      "[0.95749471 0.64379188 0.69239452 1.09636693 1.41247332 1.10987783\n",
      " 0.83302437 1.1029865  1.         0.91548738 1.23765856 0.69865691\n",
      " 0.70231647 0.69865691 0.7109768  1.         0.68856881 0.81213635\n",
      " 1.53488394 0.69865691 0.70231647 0.69865691 0.7109768  0.71552622\n",
      " 1.         1.60142036 1.31921108 1.         0.12929975 1.45271851\n",
      " 1.37239481 1.04304831 0.07856792 0.90941409 0.90624582 0.07856792\n",
      " 0.75552182 1.45857442 1.25913919 1.66856598 1.4445414  1.54333662\n",
      " 0.68633703 1.         1.1519252  1.         0.18565585 0.90542885\n",
      " 1.         1.63171898 1.658124   1.         1.52993195 1.30269644\n",
      " 1.         0.46068855 1.         0.46068855 1.         0.42480772\n",
      " 0.96759381 1.35745342 1.17351689 1.         0.94287323 1.\n",
      " 0.46891484 0.91918564 1.         0.35917394 1.3222488  0.70161997\n",
      " 1.43388303 1.65043874 1.24518621 1.         0.66655853 1.\n",
      " 1.06061635 1.         0.6818672  1.51109887 1.         1.5593329\n",
      " 1.         1.23946771 1.         0.88503555 1.         0.81351449\n",
      " 1.         0.42480772 1.04882197 1.50289514 0.71552622 1.\n",
      " 1.26326763 1.         0.40587421 1.         0.94287323 1.\n",
      " 1.40472983 1.56284839 1.36480309 1.         0.16690696 0.62459848\n",
      " 0.80701145 1.04882863 0.71724819 0.7109768  1.         1.39738538\n",
      " 1.62452312 1.27915186 0.33793772 1.0754406  1.         1.20007565\n",
      " 0.64213929 1.46709965 1.46128336 1.20907401 1.44347227 1.39329762\n",
      " 1.541386   0.90759541 1.42954366 1.44381721 1.         1.59725769\n",
      " 1.46894691 1.66554674 1.00045843 1.47505648 1.65590916 1.11437269\n",
      " 0.62960776 1.40186309 1.24513538 0.28412638 1.36515842 0.95203019\n",
      " 1.49830875 0.98760535 1.         1.44553957 1.         1.00506819\n",
      " 0.68633703 0.68633703 0.68633703 1.         0.93455827 0.76381573\n",
      " 0.71552622 1.         0.37560678 0.88971266 1.05239671 1.\n",
      " 1.1074601  1.26635388 1.43007881 1.         1.31138693 1.\n",
      " 1.06061635 1.         0.63761763 0.92260207 0.38566699 0.19099496\n",
      " 0.78685748 1.15521928 1.43849035 0.96291399 1.03272133 1.\n",
      " 1.0013493  0.68609983 0.92482587 1.         0.19729055 0.76630299\n",
      " 0.41563945 0.9079136  0.68633703 1.         1.01758293 0.68633703\n",
      " 0.75055452 1.09001537 0.87311719 1.47983052 1.16773042 1.2741761\n",
      " 1.2821233  0.69134602 1.47549739 0.8012606  1.         1.01008841\n",
      " 0.22570529 1.        ]\n"
     ]
    }
   ],
   "source": [
    "scores_cont = lxr.rank_sentences(\n",
    "    sent,\n",
    "    threshold=None,\n",
    "    fast_power_method=False,\n",
    ")\n",
    "print(scores_cont)"
   ]
  },
  {
   "cell_type": "code",
   "execution_count": 72,
   "metadata": {},
   "outputs": [
    {
     "data": {
      "text/plain": [
       "(array([ 8.,  5.,  7., 27., 15., 67., 18., 16., 27., 16.]),\n",
       " array([0.07856792, 0.23756772, 0.39656753, 0.55556734, 0.71456714,\n",
       "        0.87356695, 1.03256676, 1.19156656, 1.35056637, 1.50956618,\n",
       "        1.66856598]),\n",
       " <BarContainer object of 10 artists>)"
      ]
     },
     "execution_count": 72,
     "metadata": {},
     "output_type": "execute_result"
    },
    {
     "data": {
      "image/png": "[encoded data removed]",
      "text/plain": [
       "<Figure size 640x480 with 1 Axes>"
      ]
     },
     "metadata": {},
     "output_type": "display_data"
    }
   ],
   "source": [
    "plt.hist(scores_cont)"
   ]
  },
  {
   "cell_type": "code",
   "execution_count": 74,
   "metadata": {},
   "outputs": [
    {
     "data": {
      "text/plain": [
       "['Inside tumors , cancer cells often have to compete with each other for food and other resources they need to survive ',\n",
       " ' This is a key factor driving the growth and progression of cancer ',\n",
       " ' One of the resources cells need is a molecule called UDP-GlcNAc , which they use to modify many proteins so they can work properly ',\n",
       " ' Because cancer cells grow quickly , they likely need much more UDP-GlcNAc than healthy cells ',\n",
       " ' Many tumors , including those derived from pancreatic cancers , have very poor blood supplies , so their cells cannot get the nutrients and other resources they need to grow from the bloodstream ',\n",
       " ' This means that tumor cells have to find new ways to use what they already have ',\n",
       " ' One example of this is developing alternative ways to obtain UDP-GlcNAc ',\n",
       " ' Cells require a nutrient called glutamine to produce UDP-GlcNAc ',\n",
       " ' Limiting the supply of glutamine to cells allows researchers to study how cells are producing UDP-GlcNAc in the lab ',\n",
       " ' Campbell et al ',\n",
       " ' used this approach to study how pancreatic cancer cells obtain UDP-GlcNAc when their access to glutamine is limited ',\n",
       " ' They used a technique called isotope tracing , which allows researchers to track how a specific chemical is processed inside the cell , and what it turns into ',\n",
       " ' The results showed that the pancreatic cancer cells do not make new UDP-GlcNAc but use a protein called NAGK to salvage GlcNAc ( another precursor of UDP-GlcNAc ) , which may be obtained from cellular proteins ',\n",
       " ' Cancer cells that lacked NAGK formed smaller tumors , suggesting that the cells grow more slowly because they cannot recycle UDP-GlcNAc fast enough ',\n",
       " ' Pancreatic cancer is one of the most common causes of cancer deaths and is notable for being difficult to detect and treat ',\n",
       " ' Campbell et al ',\n",
       " ' have identified one of the changes that allows pancreatic cancers to survive and grow quickly ',\n",
       " ' Next steps will include examining the role of NAGK in healthy cells and testing whether it could be targeted for cancer treatment ',\n",
       " '']"
      ]
     },
     "execution_count": 74,
     "metadata": {},
     "output_type": "execute_result"
    }
   ],
   "source": [
    "laysum = smp.lay_summary.to_list()[0].split(\".\")\n",
    "laysum"
   ]
  },
  {
   "cell_type": "code",
   "execution_count": 78,
   "metadata": {},
   "outputs": [],
   "source": [
    "summary = lxr.get_summary(laysum, summary_size=10, threshold=.1)"
   ]
  },
  {
   "cell_type": "code",
   "execution_count": 80,
   "metadata": {},
   "outputs": [
    {
     "data": {
      "text/plain": [
       "['Inside tumors , cancer cells often have to compete with each other for food and other resources they need to survive ',\n",
       " ' This is a key factor driving the growth and progression of cancer ',\n",
       " ' One of the resources cells need is a molecule called UDP-GlcNAc , which they use to modify many proteins so they can work properly ',\n",
       " ' Because cancer cells grow quickly , they likely need much more UDP-GlcNAc than healthy cells ',\n",
       " ' Many tumors , including those derived from pancreatic cancers , have very poor blood supplies , so their cells cannot get the nutrients and other resources they need to grow from the bloodstream ',\n",
       " ' This means that tumor cells have to find new ways to use what they already have ',\n",
       " ' One example of this is developing alternative ways to obtain UDP-GlcNAc ',\n",
       " ' Cells require a nutrient called glutamine to produce UDP-GlcNAc ',\n",
       " ' Limiting the supply of glutamine to cells allows researchers to study how cells are producing UDP-GlcNAc in the lab ',\n",
       " ' Campbell et al ',\n",
       " ' used this approach to study how pancreatic cancer cells obtain UDP-GlcNAc when their access to glutamine is limited ',\n",
       " ' They used a technique called isotope tracing , which allows researchers to track how a specific chemical is processed inside the cell , and what it turns into ',\n",
       " ' The results showed that the pancreatic cancer cells do not make new UDP-GlcNAc but use a protein called NAGK to salvage GlcNAc ( another precursor of UDP-GlcNAc ) , which may be obtained from cellular proteins ',\n",
       " ' Cancer cells that lacked NAGK formed smaller tumors , suggesting that the cells grow more slowly because they cannot recycle UDP-GlcNAc fast enough ',\n",
       " ' Pancreatic cancer is one of the most common causes of cancer deaths and is notable for being difficult to detect and treat ',\n",
       " ' Campbell et al ',\n",
       " ' have identified one of the changes that allows pancreatic cancers to survive and grow quickly ',\n",
       " ' Next steps will include examining the role of NAGK in healthy cells and testing whether it could be targeted for cancer treatment ',\n",
       " '']"
      ]
     },
     "execution_count": 80,
     "metadata": {},
     "output_type": "execute_result"
    }
   ],
   "source": [
    "laysum"
   ]
  },
  {
   "cell_type": "code",
   "execution_count": 79,
   "metadata": {},
   "outputs": [
    {
     "data": {
      "text/plain": [
       "['Inside tumors , cancer cells often have to compete with each other for food and other resources they need to survive ',\n",
       " ' One of the resources cells need is a molecule called UDP-GlcNAc , which they use to modify many proteins so they can work properly ',\n",
       " ' The results showed that the pancreatic cancer cells do not make new UDP-GlcNAc but use a protein called NAGK to salvage GlcNAc ( another precursor of UDP-GlcNAc ) , which may be obtained from cellular proteins ',\n",
       " ' Limiting the supply of glutamine to cells allows researchers to study how cells are producing UDP-GlcNAc in the lab ',\n",
       " ' used this approach to study how pancreatic cancer cells obtain UDP-GlcNAc when their access to glutamine is limited ',\n",
       " ' Many tumors , including those derived from pancreatic cancers , have very poor blood supplies , so their cells cannot get the nutrients and other resources they need to grow from the bloodstream ',\n",
       " ' have identified one of the changes that allows pancreatic cancers to survive and grow quickly ',\n",
       " ' Cancer cells that lacked NAGK formed smaller tumors , suggesting that the cells grow more slowly because they cannot recycle UDP-GlcNAc fast enough ',\n",
       " '',\n",
       " ' Campbell et al ']"
      ]
     },
     "execution_count": 79,
     "metadata": {},
     "output_type": "execute_result"
    }
   ],
   "source": [
    "summary"
   ]
  },
  {
   "cell_type": "code",
   "execution_count": 76,
   "metadata": {
    "scrolled": true
   },
   "outputs": [
    {
     "name": "stdout",
     "output_type": "stream",
     "text": [
      "[0.95749471 0.64379188 0.69239452 1.09636693 1.41247332 1.10987783\n",
      " 0.83302437 1.1029865  1.         0.91548738 1.23765856 0.69865691\n",
      " 0.70231647 0.69865691 0.7109768  1.         0.68856881 0.81213635\n",
      " 1.53488394 0.69865691 0.70231647 0.69865691 0.7109768  0.71552622\n",
      " 1.         1.60142036 1.31921108 1.         0.12929975 1.45271851\n",
      " 1.37239481 1.04304831 0.07856792 0.90941409 0.90624582 0.07856792\n",
      " 0.75552182 1.45857442 1.25913919 1.66856598 1.4445414  1.54333662\n",
      " 0.68633703 1.         1.1519252  1.         0.18565585 0.90542885\n",
      " 1.         1.63171898 1.658124   1.         1.52993195 1.30269644\n",
      " 1.         0.46068855 1.         0.46068855 1.         0.42480772\n",
      " 0.96759381 1.35745342 1.17351689 1.         0.94287323 1.\n",
      " 0.46891484 0.91918564 1.         0.35917394 1.3222488  0.70161997\n",
      " 1.43388303 1.65043874 1.24518621 1.         0.66655853 1.\n",
      " 1.06061635 1.         0.6818672  1.51109887 1.         1.5593329\n",
      " 1.         1.23946771 1.         0.88503555 1.         0.81351449\n",
      " 1.         0.42480772 1.04882197 1.50289514 0.71552622 1.\n",
      " 1.26326763 1.         0.40587421 1.         0.94287323 1.\n",
      " 1.40472983 1.56284839 1.36480309 1.         0.16690696 0.62459848\n",
      " 0.80701145 1.04882863 0.71724819 0.7109768  1.         1.39738538\n",
      " 1.62452312 1.27915186 0.33793772 1.0754406  1.         1.20007565\n",
      " 0.64213929 1.46709965 1.46128336 1.20907401 1.44347227 1.39329762\n",
      " 1.541386   0.90759541 1.42954366 1.44381721 1.         1.59725769\n",
      " 1.46894691 1.66554674 1.00045843 1.47505648 1.65590916 1.11437269\n",
      " 0.62960776 1.40186309 1.24513538 0.28412638 1.36515842 0.95203019\n",
      " 1.49830875 0.98760535 1.         1.44553957 1.         1.00506819\n",
      " 0.68633703 0.68633703 0.68633703 1.         0.93455827 0.76381573\n",
      " 0.71552622 1.         0.37560678 0.88971266 1.05239671 1.\n",
      " 1.1074601  1.26635388 1.43007881 1.         1.31138693 1.\n",
      " 1.06061635 1.         0.63761763 0.92260207 0.38566699 0.19099496\n",
      " 0.78685748 1.15521928 1.43849035 0.96291399 1.03272133 1.\n",
      " 1.0013493  0.68609983 0.92482587 1.         0.19729055 0.76630299\n",
      " 0.41563945 0.9079136  0.68633703 1.         1.01758293 0.68633703\n",
      " 0.75055452 1.09001537 0.87311719 1.47983052 1.16773042 1.2741761\n",
      " 1.2821233  0.69134602 1.47549739 0.8012606  1.         1.01008841\n",
      " 0.22570529 1.        ]\n"
     ]
    }
   ],
   "source": [
    "scores_cont = lxr.rank_sentences(\n",
    "    sent,\n",
    "    threshold=None,\n",
    "    fast_power_method=False,\n",
    ")\n",
    "print(scores_cont)"
   ]
  },
  {
   "cell_type": "code",
   "execution_count": 81,
   "metadata": {
    "collapsed": true
   },
   "outputs": [
    {
     "name": "stdout",
     "output_type": "stream",
     "text": [
      "Collecting sumy\n",
      "  Downloading sumy-0.11.0-py2.py3-none-any.whl (97 kB)\n",
      "\u001b[2K     \u001b[38;2;114;156;31m━━━━━━━━━━━━━━━━━━━━━━━━━━━━━━━━━━━━━━━━\u001b[0m \u001b[32m97.3/97.3 KB\u001b[0m \u001b[31m1.8 MB/s\u001b[0m eta \u001b[36m0:00:00\u001b[0m[31m3.6 MB/s\u001b[0m eta \u001b[36m0:00:01\u001b[0m\n",
      "\u001b[?25hCollecting pycountry>=18.2.23\n",
      "  Downloading pycountry-22.3.5.tar.gz (10.1 MB)\n",
      "\u001b[2K     \u001b[38;2;114;156;31m━━━━━━━━━━━━━━━━━━━━━━━━━━━━━━━━━━━━━━━━\u001b[0m \u001b[32m10.1/10.1 MB\u001b[0m \u001b[31m5.8 MB/s\u001b[0m eta \u001b[36m0:00:00\u001b[0mm eta \u001b[36m0:00:01\u001b[0m36m0:00:01\u001b[0m\n",
      "\u001b[?25h  Installing build dependencies ... \u001b[?25ldone\n",
      "\u001b[?25h  Getting requirements to build wheel ... \u001b[?25ldone\n",
      "\u001b[?25h  Preparing metadata (pyproject.toml) ... \u001b[?25ldone\n",
      "\u001b[?25hRequirement already satisfied: requests>=2.7.0 in /Users/mw/.pyenv/versions/3.8.16/envs/nlu/lib/python3.8/site-packages (from sumy) (2.28.2)\n",
      "Collecting nltk>=3.0.2\n",
      "  Using cached nltk-3.8.1-py3-none-any.whl (1.5 MB)\n",
      "Collecting docopt<0.7,>=0.6.1\n",
      "  Downloading docopt-0.6.2.tar.gz (25 kB)\n",
      "  Preparing metadata (setup.py) ... \u001b[?25ldone\n",
      "\u001b[?25hCollecting breadability>=0.1.20\n",
      "  Downloading breadability-0.1.20.tar.gz (32 kB)\n",
      "  Preparing metadata (setup.py) ... \u001b[?25ldone\n",
      "\u001b[?25hCollecting chardet\n",
      "  Downloading chardet-5.1.0-py3-none-any.whl (199 kB)\n",
      "\u001b[2K     \u001b[38;2;114;156;31m━━━━━━━━━━━━━━━━━━━━━━━━━━━━━━━━━━━━━━━\u001b[0m \u001b[32m199.1/199.1 KB\u001b[0m \u001b[31m3.4 MB/s\u001b[0m eta \u001b[36m0:00:00\u001b[0m[36m0:00:01\u001b[0m\n",
      "\u001b[?25hCollecting lxml>=2.0\n",
      "  Using cached lxml-4.9.2-cp38-cp38-macosx_10_15_x86_64.whl (4.7 MB)\n",
      "Requirement already satisfied: joblib in /Users/mw/.pyenv/versions/3.8.16/envs/nlu/lib/python3.8/site-packages (from nltk>=3.0.2->sumy) (1.2.0)\n",
      "Requirement already satisfied: click in /Users/mw/.pyenv/versions/3.8.16/envs/nlu/lib/python3.8/site-packages (from nltk>=3.0.2->sumy) (8.1.3)\n",
      "Requirement already satisfied: regex>=2021.8.3 in /Users/mw/.pyenv/versions/3.8.16/envs/nlu/lib/python3.8/site-packages (from nltk>=3.0.2->sumy) (2023.3.23)\n",
      "Requirement already satisfied: tqdm in /Users/mw/.pyenv/versions/3.8.16/envs/nlu/lib/python3.8/site-packages (from nltk>=3.0.2->sumy) (4.65.0)\n",
      "Requirement already satisfied: setuptools in /Users/mw/.pyenv/versions/3.8.16/envs/nlu/lib/python3.8/site-packages (from pycountry>=18.2.23->sumy) (56.0.0)\n",
      "Requirement already satisfied: certifi>=2017.4.17 in /Users/mw/.pyenv/versions/3.8.16/envs/nlu/lib/python3.8/site-packages (from requests>=2.7.0->sumy) (2022.12.7)\n",
      "Requirement already satisfied: idna<4,>=2.5 in /Users/mw/.pyenv/versions/3.8.16/envs/nlu/lib/python3.8/site-packages (from requests>=2.7.0->sumy) (3.4)\n",
      "Requirement already satisfied: urllib3<1.27,>=1.21.1 in /Users/mw/.pyenv/versions/3.8.16/envs/nlu/lib/python3.8/site-packages (from requests>=2.7.0->sumy) (1.26.15)\n",
      "Requirement already satisfied: charset-normalizer<4,>=2 in /Users/mw/.pyenv/versions/3.8.16/envs/nlu/lib/python3.8/site-packages (from requests>=2.7.0->sumy) (3.1.0)\n",
      "Using legacy 'setup.py install' for breadability, since package 'wheel' is not installed.\n",
      "Using legacy 'setup.py install' for docopt, since package 'wheel' is not installed.\n",
      "Building wheels for collected packages: pycountry\n",
      "  Building wheel for pycountry (pyproject.toml) ... \u001b[?25ldone\n",
      "\u001b[?25h  Created wheel for pycountry: filename=pycountry-22.3.5-py2.py3-none-any.whl size=10681832 sha256=f40f66d181735c2d13ab667b6153cca347e6186457d501369d5e90e0988595f9\n",
      "  Stored in directory: /Users/mw/Library/Caches/pip/wheels/e2/aa/0f/c224e473b464387170b83ca7c66947b4a7e33e8d903a679748\n",
      "Successfully built pycountry\n",
      "Installing collected packages: docopt, pycountry, nltk, lxml, chardet, breadability, sumy\n",
      "  Running setup.py install for docopt ... \u001b[?25ldone\n",
      "\u001b[?25h  Running setup.py install for breadability ... \u001b[?25ldone\n",
      "\u001b[?25hSuccessfully installed breadability-0.1.20 chardet-5.1.0 docopt-0.6.2 lxml-4.9.2 nltk-3.8.1 pycountry-22.3.5 sumy-0.11.0\n",
      "\u001b[33mWARNING: You are using pip version 22.0.4; however, version 23.0.1 is available.\n",
      "You should consider upgrading via the '/Users/mw/.pyenv/versions/3.8.16/envs/nlu/bin/python3.8 -m pip install --upgrade pip' command.\u001b[0m\u001b[33m\n",
      "\u001b[0m"
     ]
    }
   ],
   "source": [
    "!pip install sumy"
   ]
  },
  {
   "cell_type": "code",
   "execution_count": 84,
   "metadata": {},
   "outputs": [],
   "source": [
    "import sumy"
   ]
  },
  {
   "cell_type": "code",
   "execution_count": 89,
   "metadata": {},
   "outputs": [
    {
     "name": "stderr",
     "output_type": "stream",
     "text": [
      "[nltk_data] Downloading package punkt to /Users/mw/nltk_data...\n",
      "[nltk_data]   Unzipping tokenizers/punkt.zip.\n"
     ]
    },
    {
     "data": {
      "text/plain": [
       "True"
      ]
     },
     "execution_count": 89,
     "metadata": {},
     "output_type": "execute_result"
    }
   ],
   "source": [
    "from sumy.parsers.plaintext import PlaintextParser\n",
    "from sumy.nlp.tokenizers import Tokenizer\n",
    "from sumy.summarizers.lex_rank import LexRankSummarizer\n",
    "nltk.download('punkt')"
   ]
  },
  {
   "cell_type": "code",
   "execution_count": 90,
   "metadata": {},
   "outputs": [],
   "source": [
    "parser = PlaintextParser.from_string(smp.article.to_list()[0], Tokenizer(\"english\"))"
   ]
  },
  {
   "cell_type": "code",
   "execution_count": 107,
   "metadata": {},
   "outputs": [],
   "source": [
    "summarizer = LexRankSummarizer()\n",
    "#Summarize the document with 2 sentences\n",
    "summary = summarizer(parser.document, 130)"
   ]
  },
  {
   "cell_type": "code",
   "execution_count": 108,
   "metadata": {},
   "outputs": [
    {
     "name": "stdout",
     "output_type": "stream",
     "text": [
      "The hexosamine biosynthesis pathway ( HBP ) produces uridine diphosphate N-acetylglucosamine ( UDP-GlcNAc ) , a major substrate for glycosylation in the cell .\n",
      "The HBP requires both glucose and glutamine for its initiation .\n",
      "Here , we identify that glutamine limitation in PDA cells suppresses de novo hexosamine synthesis but results in increased free GlcNAc abundance .\n",
      "GlcNAc salvage via N-acetylglucosamine kinase ( NAGK ) is engaged to feed UDP-GlcNAc pools .\n",
      "NAGK expression is elevated in human PDA , and NAGK deletion from PDA cells impairs tumor growth in mice .\n",
      ", 2019; Munkley , 2019 ) .\n",
      ", 2010; Guo et al .\n",
      "Hypoxia , a salient characteristic of the tumor microenvironment ( Lyssiotis and Kimmelman , 2017 ) , was shown to further promote expression of glycolysis and HBP genes in pancreatic cancer cells ( Guillaumond et al .\n",
      "DON has also been reported to sensitize PDA cells to the chemotherapeutic gemcitabine in vitro ( Chen et al .\n",
      "Thus , the HBP may represent a therapeutic target in PDA , although the regulation of UDP-GlcNAc synthesis and the optimal strategies to target this pathway for therapeutic benefit in PDA remain poorly understood .\n",
      "An outstanding question is the impact of the tumor microenvironment on UDP-GlcNAc synthesis .\n",
      "Similarly , O-GlcNAcylation of certain nuclear-cytosolic proteins , including cancer-relevant proteins such as Myc and Snail , has been demonstrated to be nutrient sensitive , impacting protein stability or function ( Housley et al .\n",
      ", 2008; Park et al .\n",
      "This raises the question of how nutrient deprivation impacts the synthesis of UDP-GlcNAc and its utilization for glycosylation .\n",
      "In this study , we investigated the impact of nutrient deprivation on the HBP and glycosylation in PDA cells , identifying a key role for hexosamine salvage through the enzyme N-acetylglucosamine kinase ( NAGK ) in PDA tumor growth .\n",
      "To examine the effects of nutrient deprivation on glycosylation , we cultured cells under glucose or glutamine limitation and examined O-GlcNAc levels and cell surface phytohemagglutinin-L ( L-PHA ) binding , a readout of N-acetylglucosaminyltransferase 5 ( MGAT5 ) -mediated cell surface N-glycans ( Figure 1—figure supplement 1A , B ) , which are highly sensitive to UDP-GlcNAc availability ( Lau et al .\n",
      "Indeed , L-PHA binding was suppressed by glucose restriction in SW480 cells and by glutamine restriction in both colon cancer cell lines ( Figure 1C ) .\n",
      "Next , to test whether glycans were sensitive to nutrient restriction in PDA cells , we examined L-PHA binding and O-GlcNAc levels under nutrient deprivation conditions in a panel of human PDA cell lines , including PANC-1 , MIA PaCa-2 , AsPC-1 , and HPAC .\n",
      "Across these cell lines , no consistent changes in L-PHA binding were observed under glucose or glutamine limitation ( Figure 1D , E , Figure 1—figure supplement 1C ) .\n",
      "We also examined L-PHA binding in PDA cells under oxygen- or serum-deprived conditions and observed minimal changes ( Figure 1—figure supplement 1D , E ) .\n",
      "TMG treatment resulted in equivalently elevated O-GlcNAcylation levels in high and low glutamine conditions ( Figure 1G; Figure 1—figure supplement 1F ) , indicating that glutamine restriction does not limit the capacity of cells to add the O-GlcNAc modification .\n",
      "Thus , under a variety of nutrient stress conditions , neither L-PHA binding nor O-GlcNAcylation were consistently suppressed in pancreatic cancer cell lines .\n",
      "We measured HBP metabolites after glucose or glutamine restriction using HPLC-MS ( Guo et al .\n",
      "In low glutamine conditions , GlcN-6-P levels were potently decreased relative to glutamine-replete conditions in PANC-1 cells , while UDP-GlcNAc abundance was maintained ( Figure 2A ) .\n",
      "In MIA PaCa-2 cells , UDP-GlcNAc abundance actually increased upon glutamine restriction ( Figure 2—figure supplement 1A ) .\n",
      "These data indicate that UDP-GlcNAc might be generated through mechanisms other than de novo synthesis .\n",
      "In contrast to that in glutamine restriction , UDP-GlcNAc abundance declined in 5 mM or 0 .\n",
      "1 mM relative to 10 mM glucose conditions ( Figure 2—figure supplement 1B ) , suggesting that glutamine limitation specifically may trigger an adaptive response to sustain UDP-GlcNAc pools .\n",
      "In addition to de novo synthesis of UDP-GlcNAc via the HBP , free GlcNAc in the cell can also be phosphorylated via N-acetylglucosamine kinase ( NAGK ) to produce GlcNAc-P and then regenerate UDP-GlcNAc ( Figure 2B ) .\n",
      "To investigate the possibility that UDP-GlcNAc is generated through mechanisms other than its synthesis from glucose , we first designed a stable isotope labeling strategy to quantify the fraction of the glucosamine ring that is synthesized de novo in glutamine-replete versus -restricted conditions .\n",
      "Since multiple components of UDP-GlcNAc [glucosamine ring , acetyl group , uridine ( both the uracil nucleobase and the ribose ring ) ] can be synthesized from glucose , UDP-GlcNAc isotopologs up to M+16 can be generated from glucose ( Moseley et al .\n",
      ", 2011; Figure 2C ) .\n",
      "After 48 hr of glutamine restriction , cells were incubated with fresh low glutamine medium containing [U-13C]-glucose to track the incorporation of glucose carbons into hexosamine intermediates .\n",
      "Across multiple PDA cell lines , the fractional labeling of the glucosamine ring in both GlcNAc-P and UDP-GlcNAc pools was markedly suppressed by glutamine restriction , indicating decreased de novo synthesis in low glutamine conditions ( Figure 2D , Figure 2—figure supplement 1C–E ) .\n",
      ", M+5 , M+7 , M+11 , and M+13]; Figure 2D , Figure 2—figure supplement 1C ) .\n",
      "Consistently , incorporation of 13C glucose into UTP was suppressed upon glutamine restriction ( Figure 2—figure supplement 2A ) , even though UTP levels were maintained or increased ( Figure 2A , Figure 2—figure supplement 1A ) , suggesting a role for nucleoside salvage in maintaining nucleotide pool in these conditions .\n",
      "This is consistent with previous reports demonstrating that autophagy/ribophagy is a source of nucleosides in amino acid-deprived conditions ( Guo et al .\n",
      "Thus , glutamine restriction suppresses the de novo synthesis of both GlcNAc-P and UTP , both of which are required to produce UDP-GlcNAc .\n",
      "Although pathways through which glucose can feed into UDP-GlcNAc’s glucosamine ring independent of the HBP have not been described in mammalian cells to our knowledge , we nevertheless tested the two major metabolic branch points diverging from UDP-GlcNAc , which mediate UDP-GalNAc and sialic acid synthesis .\n",
      "Regardless , the data clearly indicate that UDP-GlcNAc abundance is maintained despite reduced de novo hexosamine synthesis from glucose ( Figure 2D ) .\n",
      ", 2016; Wellen et al .\n",
      "Notably , intracellular levels of GlcNAc increase upon glutamine restriction ( Figure 3A ) .\n",
      "Yet , the significance of GlcNAc salvage to maintenance of UDP-GlcNAc pools has been little studied , and the proportion of UDP-GlcNAc generated via the NAGK-dependent salvage pathway is unknown .\n",
      "NAGK mRNA expression increased in PDA cell lines in low glutamine conditions and in some cell lines also in low glucose ( Figure 2—figure supplement 3A , B ) .\n",
      "GFPT1 expression was also induced in both low glucose conditions , consistent with a prior report ( Moloughney et al .\n",
      ", 2016 ) , and in low glutamine conditions ( Figure 2—figure supplement 3A ) , even though de novo synthesis is suppressed when glutamine is limited .\n",
      "Protein levels of NAGK did not increase in concordance with mRNA at these time points , however , although a mobility shift potentially indicative of post-translational modification was apparent when protein lysates were run on a gel using a large electrophoresis system ( see Materials and methods; Figure 2—figure supplement 3C , D ) .\n",
      "Removal of the phosphatase inhibitor Na3VO4 from the sample buffer prevented the mobility shift , suggesting that NAGK may be phosphorylated on one or more residues in low glutamine conditions ( Figure 2—figure supplement 3D ) .\n",
      "Taken together , these data indicate that under low glutamine conditions , GlcNAc availability for salvage increases and the salvage enzyme NAGK is subject to regulation .\n",
      "We functionally examined the role of NAGK in PDA cell lines by using CRISPR-Cas9 gene editing to generate NAGK knockout ( KO ) PANC-1 and MiaPaCa-2 clonal cell lines ( Figure 3—figure supplement 1A , B ) .\n",
      "N-[1 , 2-13C2]acetyl-d-glucosamine ( 13C GlcNAc ) was efficiently salvaged in control cells , and this was suppressed by NAGK deletion , as evidenced by reduced fractional labeling of GlcNAc-P and UDP-GlcNAc ( Figure 3B ) .\n",
      "Indeed , silencing of GALK2 further suppressed incorporation of 13C GlcNAc into GlcNAc-P and UDP-GlcNAc in the NAGK KO cells ( Figure 3—figure supplement 1C ) .\n",
      "To test this , we incubated cells with [U-13C]-glucose and examined incorporation into GlcNAc-P and UDP-GlcNAc .\n",
      "Indeed , in the absence of NAGK , we observed increased glucose-dependent fractional labeling of the glucosamine ring of UDP-GlcNAc and GlcNAc-P , but not the ribose component of UDP-GlcNAc ( Figure 3C , D , Figure 3—figure supplement 1D , E ) .\n",
      "Incorporation of glucose into F-6-P did not change ( Figure 3C ) , and the proportion of UDP-GlcNAc containing an M+5 ribose ring was also unchanged in knockout cells ( Figure 3D ) , as expected .\n",
      "Thus , when NAGK is deleted and GlcNAc salvage is suppressed , de novo hexosamine synthesis increases .\n",
      "We next assessed changes in the levels of hexosamine intermediates in control and NAGK KO cell lines .\n",
      "In PANC-1 KO cells in 4 mM glutamine , GlcN-P increased significantly , consistent with increased de novo synthesis in the absence of NAGK ( Figure 3E ) .\n",
      "GlcNAc-P was modestly reduced in KO cells , though UDP-GlcNAc levels were maintained ( Figure 3E ) .\n",
      "In MIA PaCa-2 cells , GlcNAc-P was markedly suppressed in the absence of NAGK , though UDP-GlcNAc was not ( Figure 3—figure supplement 2C ) .\n",
      "We also measured HBP metabolites under glutamine restriction , where we expected NAGK would play a more significant role in UDP-GlcNAc generation .\n",
      "GlcN-P decreased in control and KO cells , consistent with reduced de novo hexosamine synthesis ( Figure 3E ) .\n",
      "GlcNAc-P levels decreased in low glutamine in control cells and decreased further in cells lacking NAGK , consistent with contributions from both de novo synthesis and salvage ( Figure 3E ) .\n",
      "Reciprocally , GlcNAc abundance was elevated upon glutamine limitation in both control and NAGK KO cells ( Figure 3E ) .\n",
      "UDP-GlcNAc abundance was modestly reduced in NAGK KO cells relative to controls under glutamine restriction , though levels were still comparable to that in high glutamine ( Figure 3E ) , possibly reflecting changes in utilization .\n",
      "GALK2 silencing did not further suppress UDP-GlcNAc in NAGK KO cells ( Figure 3—figure supplement 2D ) , suggesting that GALK2 may not have a major role in physiological GlcNAc salvage .\n",
      "To test the role of NAGK in cell proliferation , we first monitored growth of NAGK KO cells compared to controls in 2D and 3D culture in 4 mM glutamine , finding minimal differences ( Figure 4A , Figure 4—figure supplement 1 ) .\n",
      "05 mM glutamine , where de novo UDP-GlcNAc synthesis is suppressed .\n",
      "05 mM glutamine than did control cells ( Figure 4A ) .\n",
      "PANC-1 KO cells did not show this effect ( Figure 4A ) , but we hypothesized that NAGK loss might have a stronger effect in vivo where tumor growth can be constrained by nutrient availability .\n",
      "From analysis of publicly available microarray data ( Pei et al .\n",
      ", 2009 ) and gene expression data from the Cancer Genome Atlas ( TCGA ) , we indeed found NAGK expression to be increased in tumor tissue relative to adjacent normal regions of the pancreas or to pancreas GTEx data ( Figure 4B , Figure 4—figure supplement 1B ) .\n",
      "GFPT1 expression was also increased in tumor tissue ( Figure 4B , Figure 4—figure supplement 1B ) , consistent with its regulation by mutant KRAS ( Ying et al .\n",
      "Two other HBP genes , PGM3 and UAP1 , did not show significantly increased expression in PDA tumors in these datasets ( Figure 4B , Figure 4—figure supplement 1B ) .\n",
      "We then studied the role of NAGK in tumor growth in vivo by injecting NAGK CRISPR KO cells into the flank of NCr nude mice .\n",
      "Of note , initial tumor growth was comparable between control and KO cells , but the NAGK knockout tumors either stopped growing or shrank while control tumors continued to grow larger ( Figure 4—figure supplement 1C ) .\n",
      "Interestingly , KO tumor samples showed increased L-PHA signal ( Figure 4—figure supplement 1D ) , indicating that NAGK deficiency results in altered glycosylation within tumors .\n",
      "Residual NAGK signal in whole tumors also presumably reflects expression in other cell types ( Figure 4—figure supplement 1D ) , since NAGK was undetectable in the clonal cell lines used for injections ( Figure 3—figure supplement 1B ) .\n",
      "Taken together , these data are consistent with the notion that NAGK is dispensable when nutrients are abundant but becomes more important as the tumors outgrow their original nutrient supply and become more dependent on scavenging and recycling and indicate that NAGK-mediated hexosamine salvage supports tumor growth in vivo .\n",
      "In this study , we identify a key role for NAGK in salvaging GlcNAc for UDP-GlcNAc synthesis in PDA cells .\n",
      "Glutamine deprivation also results in increased availability of GlcNAc for salvage .\n",
      "NAGK expression is elevated in human PDA tumors , and NAGK deficiency suppresses GlcNAc salvage in cells and tumor growth in mice .\n",
      "First , the sources of GlcNAc salvaged by NAGK remain to be fully elucidated .\n",
      "Nutrient scavenging via macropinocytosis is a key feature of PDA ( Commisso et al .\n",
      "Additionally , ECM components , including hyaluronic acid ( HA ) , which is a polymer of GlcNAc and glucuronic acid disaccharide units , may be additional sources of GlcNAc for salvage in the tumor microenvironment .\n",
      "Indeed , in a manuscript co-submitted with this one , Kim et al .\n",
      ", 2020 identify HA as a major source of scavenged GlcNAc .\n",
      "’s manuscript together indicate that NAGK may take on a heightened importance in the context of high GlcNAc availability and nutrient deprivation , a situation that is likely to occur within the tumor microenvironment .\n",
      "UDP-GlcNAc is also required for HA synthesis , which is present in low amounts in normal pancreas but increases in PanIN lesions and PDA ( Provenzano et al .\n",
      ", 2013; Provenzano et al .\n",
      "Of note , an inhibitor targeting PGM3 , which converts GlcNAc-6-P to GlcNAc-1-P and is thus required for both de novo UDP-GlcNAc synthesis and GlcNAc recycling , showed efficacy in treating gemcitabine-resistant patient-derived xenograft PDA models ( Ricciardiello et al .\n",
      ", 2020 ) , as well as in breast cancer xenografts ( Ricciardiello et al .\n",
      "However , in a tumor , in which cells are proliferating and nutrients are spread thin , NAGK and GlcNAc salvage may become more important in feeding UDP-GlcNAc pools .\n",
      "In sum , we report a key role for NAGK in feeding UDP-GlcNAc pools in PDA cells and in supporting xenograft tumor growth .\n",
      "For all glutamine restriction experiments except S2 .\n",
      ", 2016 ) was cloned into the lentiCRISPRv2 vector ( Sanjana et al .\n",
      "For protein extraction from cells , cells were kept on ice and washed three times with PBS , then scraped into PBS and spun down at 200 g for 5 min .\n",
      "5% deoxycholate , 0 .\n",
      "Cell lysate was spun down at 15 , 000 g for 10 min at 4°C , and supernatant was transferred to a new tube .\n",
      "For protein extraction from tissue , the sample was resuspended in 500 µL RIPA buffer and homogenized using a TissueLyser ( Qiagen , 85210 ) twice for 30 s at 20 Hz .\n",
      "For both cells and tissue , lysate samples were stored at −80°C until analysis by immunoblot .\n",
      "Antibodies used in this study were as follows: O-GlcNAc CTD110 .\n",
      "For blots showing the mobility shift for NAGK in low glutamine , samples were prepared in lysis buffer containing 50 mM Tris pH 8 .\n",
      "Samples were then spun down at 200 g for 5 min and resuspended in 100 µL Trizol ( Life Technologies ) .\n",
      "For RNA extraction from tissue , samples were resuspended in 500 μL Trizol and homogenized using a TissueLyser twice for 30 s at 20 Hz .\n",
      "Samples were covered and incubated on ice for 30 min at room temperature , then spun down , and resuspended in PBS before analysis with an Attune NxT Flow Cytometer ( Thermo Fisher Scientific ) .\n",
      "For all metabolite quantitation experiments , each sample was collected from a 10 cm sub-confluent plate of cells .\n",
      "To achieve similar confluency and protein content at the experiment end point , cells were initially plated more densely for the nutrient-deprived samples than for the nutrient-replete samples .\n",
      "For low glutamine experiments , PANC-1 cells were plated 3 × 105 for 4 mM glutamine samples and 5 .\n",
      "5 × 105 for 0 .\n",
      "05 mM samples .\n",
      "MIA PaCa-2 cells were plated 3 × 105 for 4 mM samples and 1 .\n",
      "2 × 106 for 0 .\n",
      "05 mM samples .\n",
      "Samples were prepared according to Guo et al .\n",
      "Then , 1 mL of ice cold 80% methanol was added to the plate , and cells were scraped into solvent and transferred to a 1 .\n",
      "For quantitation experiments , internal standard containing a mix of 13C labeled metabolites was added at this time .\n",
      "The dried samples were then resuspended in 100 µL of 5% sulfosalicylic acid and analyzed by liquid chromatography–high-resolution mass spectrometry as reported ( Guo et al .\n",
      "For glucose labeling experiments , cells were cultured in DMEM without glucose , glutamine , or phenol red supplemented with 10 mM [U-13C]-glucose ( Cambridge Isotopes , CLM-1396–1 ) , 4 mM glutamine , and 10% dialyzed fetal bovine serum .\n",
      "Cells were incubated for the indicated time , and samples were prepared as above .\n",
      "For GlcNAc labeling experiments , cells were cultured in DMEM without glucose , glutamine , or phenol red supplemented with 10 mM N-[1 , 2–13 C2]acetyl-d-glucosamine ( 13C GlcNAc ) ( Omicron Biochemicals , GLC-006 ) , 4 mM glutamine , 10 mM glucose , and 10% dialyzed fetal bovine serum .\n",
      "Cells were incubated for the indicated time , and samples were prepared as above .\n",
      "Two milliliter bottom agar was added to each well of a six-well tissue culture plate .\n",
      "One milliliter top layer agar was added to each well with a bottom layer of agar .\n",
      "5 × 104 per well .\n",
      "5 mL DMEM high glucose with 10% calf serum was added to cells every 7 days .\n",
      "For each day that counts were recorded , three wells were trypsinized and cells were counted twice using a hemocytometer ( Sigma , Z359629 ) .\n",
      ", 2002 ) was used to compare the expression level between human normal and PDAC tumor samples .\n",
      "01 and plotted in box-and-whisker diagram .\n",
      "Comparison of HBP gene expression between tumor ( TCGA PAAD dataset ) and normal tissue ( GTEx ) was also conducted using GEPIA2 ( Tang et al .\n"
     ]
    }
   ],
   "source": [
    "for sentence in summary:\n",
    "    print(sentence)"
   ]
  },
  {
   "cell_type": "code",
   "execution_count": 109,
   "metadata": {},
   "outputs": [],
   "source": [
    "import nltk"
   ]
  },
  {
   "cell_type": "code",
   "execution_count": 110,
   "metadata": {},
   "outputs": [
    {
     "data": {
      "text/plain": [
       "3286"
      ]
     },
     "execution_count": 110,
     "metadata": {},
     "output_type": "execute_result"
    }
   ],
   "source": [
    "len(nltk.word_tokenize(\" \".join([str(s) for s in summary])))"
   ]
  },
  {
   "cell_type": "code",
   "execution_count": 111,
   "metadata": {},
   "outputs": [
    {
     "data": {
      "text/plain": [
       "[3916]"
      ]
     },
     "execution_count": 111,
     "metadata": {},
     "output_type": "execute_result"
    }
   ],
   "source": [
    "token_lengths([\" \".join([str(s) for s in summary])])"
   ]
  },
  {
   "cell_type": "code",
   "execution_count": null,
   "metadata": {},
   "outputs": [],
   "source": []
  }
 ],
 "metadata": {
  "kernelspec": {
   "display_name": "Python 3 (ipykernel)",
   "language": "python",
   "name": "python3"
  },
  "language_info": {
   "codemirror_mode": {
    "name": "ipython",
    "version": 3
   },
   "file_extension": ".py",
   "mimetype": "text/x-python",
   "name": "python",
   "nbconvert_exporter": "python",
   "pygments_lexer": "ipython3",
   "version": "3.8.16"
  }
 },
 "nbformat": 4,
 "nbformat_minor": 2
}
